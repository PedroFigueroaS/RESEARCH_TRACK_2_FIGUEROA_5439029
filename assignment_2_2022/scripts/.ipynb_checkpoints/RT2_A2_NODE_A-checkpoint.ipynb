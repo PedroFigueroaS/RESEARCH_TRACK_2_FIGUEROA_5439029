{
 "cells": [
  {
   "cell_type": "code",
   "execution_count": 1,
   "id": "66beb466",
   "metadata": {
    "ExecuteTime": {
     "end_time": "2023-06-01T14:28:26.502078Z",
     "start_time": "2023-06-01T14:28:24.891278Z"
    }
   },
   "outputs": [],
   "source": [
    "%matplotlib widget\n",
    "import numpy as np\n",
    "import matplotlib.pyplot as plt\n",
    "from matplotlib.animation import FuncAnimation\n",
    "import jupyros as jr\n",
    "import rospy\n",
    "from nav_msgs.msg import Odometry\n",
    "from actionlib_msgs.msg import GoalStatusArray\n",
    "import ipywidgets as widgets\n",
    "from sensor_msgs.msg import LaserScan"
   ]
  },
  {
   "cell_type": "code",
   "execution_count": 2,
   "id": "782b3dd8",
   "metadata": {
    "ExecuteTime": {
     "end_time": "2023-06-01T14:28:26.509586Z",
     "start_time": "2023-06-01T14:28:26.505054Z"
    },
    "scrolled": false
   },
   "outputs": [],
   "source": [
    "global px, py, tarjet_reached, tarjet_cancelled\n",
    "px=0\n",
    "py=0\n",
    "x_data=[]\n",
    "y_data=[]\n",
    "#fig = plt.figure()\n",
    "#ax = fig.add_axes([0,0,1,1])\n",
    "#line, = ax.plot([], [], 'ro')\n",
    "#ax.set_xlim(( -20, 20))\n",
    "#ax.set_ylim((-20, 20))\n",
    "#ax.set_title(\"my_robot\")\n",
    "#ax.set_xlabel(\"x\")\n",
    "#ax.set_ylabel(\"y\")"
   ]
  },
  {
   "cell_type": "code",
   "execution_count": 3,
   "id": "1b674737",
   "metadata": {
    "ExecuteTime": {
     "end_time": "2023-06-01T14:28:26.544621Z",
     "start_time": "2023-06-01T14:28:26.514404Z"
    }
   },
   "outputs": [],
   "source": [
    "from __future__ import print_function\n",
    "import rospy\n",
    "from geometry_msgs.msg import Point, Pose, Twist\n",
    "from geometry_msgs.msg import PoseStamped\n",
    "from sensor_msgs.msg import LaserScan\n",
    "from nav_msgs.msg import Odometry\n",
    "import math\n",
    "import actionlib\n",
    "import actionlib.msg\n",
    "from tf import transformations\n",
    "from std_srvs.srv import *\n",
    "import time\n",
    "from assignment_2_2022.msg import nodeA\n",
    "\n",
    "import actionlib\n",
    "import actionlib_msgs\n",
    "import assignment_2_2022.msg\n",
    "from IPython.display import display\n",
    "global xpos, ypos, tarjet_reached, tarjet_cancelled\n",
    "xpos=0\n",
    "ypos=0\n",
    "tarjet_reached=0\n",
    "tarjet_cancelled=0"
   ]
  },
  {
   "cell_type": "code",
   "execution_count": 4,
   "id": "e97d0dad",
   "metadata": {
    "ExecuteTime": {
     "end_time": "2023-06-01T14:28:26.551187Z",
     "start_time": "2023-06-01T14:28:26.547736Z"
    }
   },
   "outputs": [],
   "source": [
    "#def user_select():\n",
    " \n",
    "#    op=input(\"choose action: \")#enter the desired option\n",
    "#    if(op==\"1\"): #if set new target, go to new_position()\n",
    "#        new_position()\n",
    "#    elif(op==\"2\"):\n",
    "#        cancel_sim()#if cancel the target, go to cancel_sim()\n",
    "#    #Main program"
   ]
  },
  {
   "cell_type": "code",
   "execution_count": 5,
   "id": "8a98d0f1",
   "metadata": {
    "ExecuteTime": {
     "end_time": "2023-06-01T14:28:26.558938Z",
     "start_time": "2023-06-01T14:28:26.554588Z"
    }
   },
   "outputs": [],
   "source": [
    "def odom_callback(msg):\n",
    "    global x_data, y_data, px, py\n",
    "    px=msg.pose.pose.position.x\n",
    "    py=msg.pose.pose.position.y\n",
    "    #y_data.append(msg.pose.pose.position.y)\n",
    "    #x_data.append(msg.pose.pose.position.x)"
   ]
  },
  {
   "cell_type": "code",
   "execution_count": 6,
   "id": "c9a17497",
   "metadata": {
    "ExecuteTime": {
     "end_time": "2023-06-01T14:28:26.586647Z",
     "start_time": "2023-06-01T14:28:26.562219Z"
    }
   },
   "outputs": [
    {
     "data": {
      "application/vnd.jupyter.widget-view+json": {
       "model_id": "abeb3dd265a54869add84bb6a0bf605f",
       "version_major": 2,
       "version_minor": 0
      },
      "text/plain": [
       "VBox(children=(HBox(children=(Button(description='Stop', style=ButtonStyle()),)), Output(layout=Layout(border=…"
      ]
     },
     "metadata": {},
     "output_type": "display_data"
    }
   ],
   "source": [
    "#rospy.init_node('odom_visualizer_node')\n",
    "jr.subscribe('/odom', Odometry, odom_callback)"
   ]
  },
  {
   "cell_type": "code",
   "execution_count": 7,
   "id": "5a30691f",
   "metadata": {
    "ExecuteTime": {
     "end_time": "2023-06-01T14:28:26.592356Z",
     "start_time": "2023-06-01T14:28:26.588947Z"
    },
    "scrolled": true
   },
   "outputs": [],
   "source": [
    "#button3 = widgets.Button(description=\"Send position\")\n",
    "#output3 = widgets.Output()\n",
    "#button4 = widgets.Button(description=\"Goals status\")\n",
    "#output4 = widgets.Output()"
   ]
  },
  {
   "cell_type": "code",
   "execution_count": 8,
   "id": "c472d64c",
   "metadata": {
    "ExecuteTime": {
     "end_time": "2023-06-01T14:28:26.599727Z",
     "start_time": "2023-06-01T14:28:26.595274Z"
    }
   },
   "outputs": [],
   "source": [
    "def on_button_clicked(b):\n",
    "    global px, py\n",
    "    print('pos x: ',px)\n",
    "    print('pos y: ',py)\n",
    "    #np_x_plot = np.array(x_data)\n",
    "    #np_y_plot = np.array(y_data)\n",
    "    #fig = plt.cla()\n",
    "    #ax.set_xlim(( -20, 20))\n",
    "    #ax.set_ylim((-20, 20))\n",
    "    #ax.plot(np_x_plot,np_y_plot)"
   ]
  },
  {
   "cell_type": "code",
   "execution_count": 9,
   "id": "d32c8380",
   "metadata": {
    "ExecuteTime": {
     "end_time": "2023-06-01T14:28:26.607893Z",
     "start_time": "2023-06-01T14:28:26.604438Z"
    }
   },
   "outputs": [],
   "source": [
    "def cancel_sim(b):\n",
    "    #global client\n",
    "    #client = actionlib.SimpleActionClient('/reaching_goal',assignment_2_2022.msg.PlanningAction)\n",
    "    client.cancel_goal()#send a signal to cancel the action of reaching the new target\n",
    "    print(\"goal cancelled: going back to user select...\")\n",
    "    #user_select() #send the new goal to the client server\n"
   ]
  },
  {
   "cell_type": "code",
   "execution_count": 10,
   "id": "88debcdd",
   "metadata": {
    "ExecuteTime": {
     "end_time": "2023-06-01T14:28:26.615349Z",
     "start_time": "2023-06-01T14:28:26.611086Z"
    }
   },
   "outputs": [],
   "source": [
    "def status_callback(msg1):\n",
    "    global status\n",
    "    status =0\n",
    "    #global tarjet_reached, tarjet_cancelled\n",
    "    #status=msg1.status\n",
    "    #if status==3:\n",
    "    #    tarjet_reached=tarject_reached+1\n",
    "    #if status==2:\n",
    "    #    tarjet_cancelled=tarjet_cancelled+1\n",
    "    #list1=msg1.status_list\n",
    "    #indices = [1, 4]\n",
    "    #elements = []\n",
    "    #for index in indices:\n",
    "    #    elements.append(list[index])\n",
    "    #print(type(list1))\n",
    "    for item in msg1.status_list:\n",
    "         status=item.status"
   ]
  },
  {
   "cell_type": "code",
   "execution_count": 11,
   "id": "3f5f5a00",
   "metadata": {
    "ExecuteTime": {
     "end_time": "2023-06-01T14:28:26.624059Z",
     "start_time": "2023-06-01T14:28:26.618532Z"
    }
   },
   "outputs": [],
   "source": [
    "def status_button(b):\n",
    "    global tarjet_reached, tarjet_cancelled\n",
    "    if status == 2:\n",
    "        tarjet_cancelled=tarjet_cancelled+1\n",
    "    if status==3:\n",
    "        tarjet_reached=tarject_reached+1    \n",
    "    print('goals reached: ',tarjet_reached)\n",
    "    print('goals cancelled: ',tarjet_cancelled)"
   ]
  },
  {
   "cell_type": "code",
   "execution_count": 12,
   "id": "9b7e8735",
   "metadata": {
    "ExecuteTime": {
     "end_time": "2023-06-01T14:28:26.654201Z",
     "start_time": "2023-06-01T14:28:26.631168Z"
    },
    "scrolled": true
   },
   "outputs": [
    {
     "data": {
      "application/vnd.jupyter.widget-view+json": {
       "model_id": "32ffa0e9b61b422e8deb2cb427ca7ff0",
       "version_major": 2,
       "version_minor": 0
      },
      "text/plain": [
       "VBox(children=(HBox(children=(Button(description='Stop', style=ButtonStyle()),)), Output(layout=Layout(border=…"
      ]
     },
     "metadata": {},
     "output_type": "display_data"
    }
   ],
   "source": [
    "#rospy.init_node('odom_visualizer_node')\n",
    "jr.subscribe('/reaching_goal/status', GoalStatusArray, status_callback)"
   ]
  },
  {
   "cell_type": "code",
   "execution_count": 13,
   "id": "50311667",
   "metadata": {
    "ExecuteTime": {
     "end_time": "2023-06-01T14:28:26.670213Z",
     "start_time": "2023-06-01T14:28:26.657020Z"
    },
    "scrolled": false
   },
   "outputs": [],
   "source": [
    "global xpos, ypos\n",
    "x_new = widgets.IntSlider(min=-10,max=10,step=1,description='Set posx:')\n",
    "y_new = widgets.IntSlider(min=-10,max=10,step=1,description='Set posy:')\n",
    "x_pos=x_new.value\n",
    "y_pos=y_new.value"
   ]
  },
  {
   "cell_type": "code",
   "execution_count": 14,
   "id": "0553a933",
   "metadata": {
    "ExecuteTime": {
     "end_time": "2023-06-01T14:28:26.676644Z",
     "start_time": "2023-06-01T14:28:26.673698Z"
    }
   },
   "outputs": [],
   "source": [
    "#button1 = widgets.Button(description=\"Set position\")\n",
    "#output1 = widgets.Output()"
   ]
  },
  {
   "cell_type": "code",
   "execution_count": 15,
   "id": "272fc1e9",
   "metadata": {
    "ExecuteTime": {
     "end_time": "2023-06-01T14:28:26.684177Z",
     "start_time": "2023-06-01T14:28:26.679578Z"
    }
   },
   "outputs": [],
   "source": [
    "def send_position(b):\n",
    "    #global client\n",
    "    global xpos, ypos\n",
    "    print('new position send:',x_new.value,y_new.value)\n",
    "    goal=PoseStamped()\n",
    "    goal.pose.position.x=x_new.value\n",
    "    goal.pose.position.y=y_new.value\n",
    "    goal = assignment_2_2022.msg.PlanningGoal(goal)\n",
    " #send the new goal to the client server\n",
    "    client.send_goal(goal)\n",
    "    "
   ]
  },
  {
   "cell_type": "code",
   "execution_count": 16,
   "id": "c802a7c5",
   "metadata": {
    "ExecuteTime": {
     "end_time": "2023-06-01T14:28:26.694139Z",
     "start_time": "2023-06-01T14:28:26.687598Z"
    }
   },
   "outputs": [],
   "source": [
    "def clbk_laser(msg):\n",
    "    global regions_\n",
    "    regions_ = {\n",
    "        'right':  min(min(msg.ranges[0:143]), 10),\n",
    "        'fright': min(min(msg.ranges[144:287]), 10),\n",
    "        'front':  min(min(msg.ranges[288:431]), 10),\n",
    "        'fleft':  min(min(msg.ranges[432:575]), 10),\n",
    "        'left':   min(min(msg.ranges[576:713]), 10),\n",
    "    }\n",
    "    #print(regions_)"
   ]
  },
  {
   "cell_type": "code",
   "execution_count": 17,
   "id": "ed381742",
   "metadata": {
    "ExecuteTime": {
     "end_time": "2023-06-01T14:28:26.722806Z",
     "start_time": "2023-06-01T14:28:26.696634Z"
    }
   },
   "outputs": [
    {
     "data": {
      "application/vnd.jupyter.widget-view+json": {
       "model_id": "d77ccccdfdeb4a74838baafc53eb7324",
       "version_major": 2,
       "version_minor": 0
      },
      "text/plain": [
       "VBox(children=(HBox(children=(Button(description='Stop', style=ButtonStyle()),)), Output(layout=Layout(border=…"
      ]
     },
     "metadata": {},
     "output_type": "display_data"
    }
   ],
   "source": [
    "jr.subscribe('/scan', LaserScan, clbk_laser)"
   ]
  },
  {
   "cell_type": "code",
   "execution_count": 18,
   "id": "05ad8f54",
   "metadata": {
    "ExecuteTime": {
     "end_time": "2023-06-01T14:28:26.731967Z",
     "start_time": "2023-06-01T14:28:26.725952Z"
    }
   },
   "outputs": [],
   "source": [
    "def scan_button(b):\n",
    "    global regions_  \n",
    "    print(regions_)  "
   ]
  },
  {
   "cell_type": "markdown",
   "id": "599992bd",
   "metadata": {},
   "source": [
    "# PLOT SCANNER INFORMATION"
   ]
  },
  {
   "cell_type": "code",
   "execution_count": 19,
   "id": "6fcdfb5d",
   "metadata": {
    "ExecuteTime": {
     "end_time": "2023-06-01T14:28:26.752128Z",
     "start_time": "2023-06-01T14:28:26.735981Z"
    }
   },
   "outputs": [
    {
     "data": {
      "application/vnd.jupyter.widget-view+json": {
       "model_id": "c0e5854a5bfd48f097fb8b149856444e",
       "version_major": 2,
       "version_minor": 0
      },
      "text/plain": [
       "Button(description='Scan info', style=ButtonStyle())"
      ]
     },
     "metadata": {},
     "output_type": "display_data"
    },
    {
     "data": {
      "application/vnd.jupyter.widget-view+json": {
       "model_id": "81fefb21589244c88afdbc8898cc2e04",
       "version_major": 2,
       "version_minor": 0
      },
      "text/plain": [
       "Output()"
      ]
     },
     "metadata": {},
     "output_type": "display_data"
    }
   ],
   "source": [
    "button5 = widgets.Button(description=\"Scan info\")\n",
    "output5 = widgets.Output()\n",
    "button5.on_click(scan_button)\n",
    "display(button5, output5)"
   ]
  },
  {
   "cell_type": "markdown",
   "id": "91570899",
   "metadata": {},
   "source": [
    "# USER INTERFACE: SEND NEW GOAL"
   ]
  },
  {
   "cell_type": "code",
   "execution_count": 20,
   "id": "c34738c1",
   "metadata": {
    "ExecuteTime": {
     "end_time": "2023-06-01T14:28:26.771890Z",
     "start_time": "2023-06-01T14:28:26.755137Z"
    }
   },
   "outputs": [
    {
     "data": {
      "application/vnd.jupyter.widget-view+json": {
       "model_id": "8bd2039d642b4871bdf174c2151bc985",
       "version_major": 2,
       "version_minor": 0
      },
      "text/plain": [
       "Button(description='send position', style=ButtonStyle())"
      ]
     },
     "metadata": {},
     "output_type": "display_data"
    },
    {
     "data": {
      "application/vnd.jupyter.widget-view+json": {
       "model_id": "26227cd87d30426e97ac376c21b346e9",
       "version_major": 2,
       "version_minor": 0
      },
      "text/plain": [
       "Output()"
      ]
     },
     "metadata": {},
     "output_type": "display_data"
    },
    {
     "name": "stdout",
     "output_type": "stream",
     "text": [
      "new position send: -2 -2\n",
      "new position send: 5 6\n"
     ]
    }
   ],
   "source": [
    "button3 = widgets.Button(description=\"send position\")\n",
    "output3 = widgets.Output()\n",
    "button3.on_click(send_position)\n",
    "display(button3, output3)"
   ]
  },
  {
   "cell_type": "code",
   "execution_count": 21,
   "id": "d34b6e96",
   "metadata": {
    "ExecuteTime": {
     "end_time": "2023-06-01T14:28:26.778148Z",
     "start_time": "2023-06-01T14:28:26.774504Z"
    }
   },
   "outputs": [],
   "source": [
    "#button4.on_click(status_button)\n",
    "#display(button4,output4)"
   ]
  },
  {
   "cell_type": "markdown",
   "id": "3a540519",
   "metadata": {},
   "source": [
    "# USER INTERFACE: DEFINE NEW GOAL POSITION"
   ]
  },
  {
   "cell_type": "code",
   "execution_count": 22,
   "id": "b9ddeae8",
   "metadata": {
    "ExecuteTime": {
     "end_time": "2023-06-01T14:28:26.788588Z",
     "start_time": "2023-06-01T14:28:26.782248Z"
    },
    "scrolled": true
   },
   "outputs": [
    {
     "data": {
      "application/vnd.jupyter.widget-view+json": {
       "model_id": "a6087b7e6aac48df9021fa895ca0b56e",
       "version_major": 2,
       "version_minor": 0
      },
      "text/plain": [
       "IntSlider(value=0, description='Set posx:', max=10, min=-10)"
      ]
     },
     "metadata": {},
     "output_type": "display_data"
    },
    {
     "data": {
      "application/vnd.jupyter.widget-view+json": {
       "model_id": "c551348e20844fe0bfeddd64df71d178",
       "version_major": 2,
       "version_minor": 0
      },
      "text/plain": [
       "IntSlider(value=0, description='Set posy:', max=10, min=-10)"
      ]
     },
     "metadata": {},
     "output_type": "display_data"
    }
   ],
   "source": [
    "#rospy.init_node('odom_visualizer_node')\n",
    "#jr.subscribe('/odom', Odometry, odom_callback)\n",
    "display(x_new,y_new)"
   ]
  },
  {
   "cell_type": "markdown",
   "id": "5e06baeb",
   "metadata": {},
   "source": [
    "# USER INTERFACE: DISPLAY CURRENT POSITION"
   ]
  },
  {
   "cell_type": "code",
   "execution_count": 23,
   "id": "b494650f",
   "metadata": {
    "ExecuteTime": {
     "end_time": "2023-06-01T14:28:26.805935Z",
     "start_time": "2023-06-01T14:28:26.791397Z"
    },
    "scrolled": true
   },
   "outputs": [
    {
     "data": {
      "application/vnd.jupyter.widget-view+json": {
       "model_id": "fa59fc64bbc74eedbe6796fb116dcd7c",
       "version_major": 2,
       "version_minor": 0
      },
      "text/plain": [
       "Button(description='Current position', style=ButtonStyle())"
      ]
     },
     "metadata": {},
     "output_type": "display_data"
    },
    {
     "data": {
      "application/vnd.jupyter.widget-view+json": {
       "model_id": "e9bda8497421445fa0612d807b6c3e29",
       "version_major": 2,
       "version_minor": 0
      },
      "text/plain": [
       "Output()"
      ]
     },
     "metadata": {},
     "output_type": "display_data"
    },
    {
     "name": "stdout",
     "output_type": "stream",
     "text": [
      "pos x:  -0.02130833037621393\n",
      "pos y:  1.000817812495456\n",
      "pos x:  -0.037619956237102424\n",
      "pos y:  1.001104880681735\n"
     ]
    }
   ],
   "source": [
    "button = widgets.Button(description=\"Current position\")\n",
    "output = widgets.Output()\n",
    "button.on_click(on_button_clicked)\n",
    "display(button, output)"
   ]
  },
  {
   "cell_type": "markdown",
   "id": "0f10e8ab",
   "metadata": {},
   "source": [
    "# USER INTERFACE: CANCEL CURRENT GOAL"
   ]
  },
  {
   "cell_type": "code",
   "execution_count": 24,
   "id": "f27e7c37",
   "metadata": {
    "ExecuteTime": {
     "end_time": "2023-06-01T14:28:26.829464Z",
     "start_time": "2023-06-01T14:28:26.810354Z"
    },
    "scrolled": false
   },
   "outputs": [
    {
     "data": {
      "application/vnd.jupyter.widget-view+json": {
       "model_id": "80155fa6d248492ab3e881591e61d9c9",
       "version_major": 2,
       "version_minor": 0
      },
      "text/plain": [
       "Button(description='Cancel position', style=ButtonStyle())"
      ]
     },
     "metadata": {},
     "output_type": "display_data"
    },
    {
     "data": {
      "application/vnd.jupyter.widget-view+json": {
       "model_id": "6a1ccd3275f649b08484cb7cce9f5fd1",
       "version_major": 2,
       "version_minor": 0
      },
      "text/plain": [
       "Output()"
      ]
     },
     "metadata": {},
     "output_type": "display_data"
    },
    {
     "name": "stdout",
     "output_type": "stream",
     "text": [
      "goal cancelled: going back to user select...\n"
     ]
    }
   ],
   "source": [
    "button2 = widgets.Button(description=\"Cancel position\")\n",
    "output2 = widgets.Output()\n",
    "button2.on_click(cancel_sim)\n",
    "display(button2, output2)"
   ]
  },
  {
   "cell_type": "markdown",
   "id": "cbbac966",
   "metadata": {},
   "source": [
    "#  USER INTERFACE: CHECK CURRENT STATUS"
   ]
  },
  {
   "cell_type": "code",
   "execution_count": 25,
   "id": "261d2b1c",
   "metadata": {
    "ExecuteTime": {
     "end_time": "2023-06-01T14:28:26.862099Z",
     "start_time": "2023-06-01T14:28:26.840684Z"
    }
   },
   "outputs": [
    {
     "data": {
      "application/vnd.jupyter.widget-view+json": {
       "model_id": "8bdf28a175314d30befda443e5fb39ca",
       "version_major": 2,
       "version_minor": 0
      },
      "text/plain": [
       "Button(description='Check goal Status', style=ButtonStyle())"
      ]
     },
     "metadata": {},
     "output_type": "display_data"
    },
    {
     "data": {
      "application/vnd.jupyter.widget-view+json": {
       "model_id": "5fb9454e61f54871893d471576ef2070",
       "version_major": 2,
       "version_minor": 0
      },
      "text/plain": [
       "Output()"
      ]
     },
     "metadata": {},
     "output_type": "display_data"
    },
    {
     "name": "stdout",
     "output_type": "stream",
     "text": [
      "goals reached:  0\n",
      "goals cancelled:  0\n",
      "goals reached:  0\n",
      "goals cancelled:  1\n"
     ]
    }
   ],
   "source": [
    "button4 = widgets.Button(description=\"Check goal Status\")\n",
    "output4 = widgets.Output()\n",
    "button4.on_click(status_button)\n",
    "display(button4, output4)"
   ]
  },
  {
   "cell_type": "markdown",
   "id": "73f144a7",
   "metadata": {
    "ExecuteTime": {
     "end_time": "2023-06-01T14:20:17.354989Z",
     "start_time": "2023-06-01T14:20:17.354958Z"
    }
   },
   "source": [
    "# MAIN"
   ]
  },
  {
   "cell_type": "code",
   "execution_count": 26,
   "id": "cac5b7ba",
   "metadata": {
    "ExecuteTime": {
     "end_time": "2023-06-01T14:28:27.064980Z",
     "start_time": "2023-06-01T14:28:26.865917Z"
    }
   },
   "outputs": [],
   "source": [
    "#print(xpos,ypos)\n",
    "rospy.init_node('nodeAclient')  # Initializes a rospy node\n",
    "client = actionlib.SimpleActionClient('/reaching_goal',assignment_2_2022.msg.PlanningAction)\n",
    "#create a client object for an Action client related to the message files Planning.action\n",
    "#user_select()#enter to the main user interface"
   ]
  }
 ],
 "metadata": {
  "kernelspec": {
   "display_name": "Python 3 (ipykernel)",
   "language": "python",
   "name": "python3"
  },
  "language_info": {
   "codemirror_mode": {
    "name": "ipython",
    "version": 3
   },
   "file_extension": ".py",
   "mimetype": "text/x-python",
   "name": "python",
   "nbconvert_exporter": "python",
   "pygments_lexer": "ipython3",
   "version": "3.8.10"
  },
  "toc": {
   "base_numbering": 1,
   "nav_menu": {},
   "number_sections": true,
   "sideBar": true,
   "skip_h1_title": false,
   "title_cell": "Table of Contents",
   "title_sidebar": "Contents",
   "toc_cell": false,
   "toc_position": {
    "height": "calc(100% - 180px)",
    "left": "10px",
    "top": "150px",
    "width": "256px"
   },
   "toc_section_display": true,
   "toc_window_display": false
  },
  "varInspector": {
   "cols": {
    "lenName": 16,
    "lenType": 16,
    "lenVar": 40
   },
   "kernels_config": {
    "python": {
     "delete_cmd_postfix": "",
     "delete_cmd_prefix": "del ",
     "library": "var_list.py",
     "varRefreshCmd": "print(var_dic_list())"
    },
    "r": {
     "delete_cmd_postfix": ") ",
     "delete_cmd_prefix": "rm(",
     "library": "var_list.r",
     "varRefreshCmd": "cat(var_dic_list()) "
    }
   },
   "types_to_exclude": [
    "module",
    "function",
    "builtin_function_or_method",
    "instance",
    "_Feature"
   ],
   "window_display": false
  }
 },
 "nbformat": 4,
 "nbformat_minor": 5
}
