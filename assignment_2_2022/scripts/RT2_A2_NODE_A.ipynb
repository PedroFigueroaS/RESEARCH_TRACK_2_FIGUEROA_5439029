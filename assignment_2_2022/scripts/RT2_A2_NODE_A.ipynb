{
 "cells": [
  {
   "cell_type": "code",
   "execution_count": 1,
   "id": "d681e65c",
   "metadata": {
    "ExecuteTime": {
     "end_time": "2023-06-01T14:46:22.496364Z",
     "start_time": "2023-06-01T14:46:20.832447Z"
    }
   },
   "outputs": [],
   "source": [
    "%matplotlib widget\n",
    "import numpy as np\n",
    "import matplotlib.pyplot as plt\n",
    "from matplotlib.animation import FuncAnimation\n",
    "import jupyros as jr\n",
    "import rospy\n",
    "from nav_msgs.msg import Odometry\n",
    "from actionlib_msgs.msg import GoalStatusArray\n",
    "import ipywidgets as widgets\n",
    "from sensor_msgs.msg import LaserScan"
   ]
  },
  {
   "cell_type": "code",
   "execution_count": 2,
   "id": "32aab0df",
   "metadata": {
    "ExecuteTime": {
     "end_time": "2023-06-01T14:46:22.507010Z",
     "start_time": "2023-06-01T14:46:22.499871Z"
    },
    "scrolled": false
   },
   "outputs": [],
   "source": [
    "global px, py, tarjet_reached, tarjet_cancelled\n",
    "px=0\n",
    "py=0\n",
    "x_data=[]\n",
    "y_data=[]\n",
    "#fig = plt.figure()\n",
    "#ax = fig.add_axes([0,0,1,1])\n",
    "#line, = ax.plot([], [], 'ro')\n",
    "#ax.set_xlim(( -20, 20))\n",
    "#ax.set_ylim((-20, 20))\n",
    "#ax.set_title(\"my_robot\")\n",
    "#ax.set_xlabel(\"x\")\n",
    "#ax.set_ylabel(\"y\")"
   ]
  },
  {
   "cell_type": "code",
   "execution_count": 3,
   "id": "2e644a57",
   "metadata": {
    "ExecuteTime": {
     "end_time": "2023-06-01T14:46:22.534451Z",
     "start_time": "2023-06-01T14:46:22.513266Z"
    }
   },
   "outputs": [],
   "source": [
    "from __future__ import print_function\n",
    "import rospy\n",
    "from geometry_msgs.msg import Point, Pose, Twist\n",
    "from geometry_msgs.msg import PoseStamped\n",
    "from sensor_msgs.msg import LaserScan\n",
    "from nav_msgs.msg import Odometry\n",
    "import math\n",
    "import actionlib\n",
    "import actionlib.msg\n",
    "from tf import transformations\n",
    "from std_srvs.srv import *\n",
    "import time\n",
    "from assignment_2_2022.msg import nodeA\n",
    "\n",
    "import actionlib\n",
    "import actionlib_msgs\n",
    "import assignment_2_2022.msg\n",
    "from IPython.display import display\n",
    "global xpos, ypos, tarjet_reached, tarjet_cancelled\n",
    "xpos=0\n",
    "ypos=0\n",
    "tarjet_reached=0\n",
    "tarjet_cancelled=0"
   ]
  },
  {
   "cell_type": "code",
   "execution_count": 4,
   "id": "73a68a10",
   "metadata": {
    "ExecuteTime": {
     "end_time": "2023-06-01T14:46:22.540629Z",
     "start_time": "2023-06-01T14:46:22.537751Z"
    }
   },
   "outputs": [],
   "source": [
    "#def user_select():\n",
    " \n",
    "#    op=input(\"choose action: \")#enter the desired option\n",
    "#    if(op==\"1\"): #if set new target, go to new_position()\n",
    "#        new_position()\n",
    "#    elif(op==\"2\"):\n",
    "#        cancel_sim()#if cancel the target, go to cancel_sim()\n",
    "#    #Main program"
   ]
  },
  {
   "cell_type": "code",
   "execution_count": 5,
   "id": "b52332ed",
   "metadata": {
    "ExecuteTime": {
     "end_time": "2023-06-01T14:46:22.547972Z",
     "start_time": "2023-06-01T14:46:22.543741Z"
    }
   },
   "outputs": [],
   "source": [
    "def odom_callback(msg):\n",
    "    global x_data, y_data, px, py\n",
    "    px=msg.pose.pose.position.x\n",
    "    py=msg.pose.pose.position.y\n",
    "    #y_data.append(msg.pose.pose.position.y)\n",
    "    #x_data.append(msg.pose.pose.position.x)"
   ]
  },
  {
   "cell_type": "code",
   "execution_count": 6,
   "id": "0bb4a6c4",
   "metadata": {
    "ExecuteTime": {
     "end_time": "2023-06-01T14:46:22.580635Z",
     "start_time": "2023-06-01T14:46:22.551125Z"
    }
   },
   "outputs": [
    {
     "data": {
      "application/vnd.jupyter.widget-view+json": {
       "model_id": "8a297c3a987b4f028c9cc5bac10f7bbe",
       "version_major": 2,
       "version_minor": 0
      },
      "text/plain": [
       "VBox(children=(HBox(children=(Button(description='Stop', style=ButtonStyle()),)), Output(layout=Layout(border=…"
      ]
     },
     "metadata": {},
     "output_type": "display_data"
    }
   ],
   "source": [
    "#rospy.init_node('odom_visualizer_node')\n",
    "jr.subscribe('/odom', Odometry, odom_callback)"
   ]
  },
  {
   "cell_type": "code",
   "execution_count": 7,
   "id": "dd899c6b",
   "metadata": {
    "ExecuteTime": {
     "end_time": "2023-06-01T14:46:22.587241Z",
     "start_time": "2023-06-01T14:46:22.583725Z"
    },
    "scrolled": true
   },
   "outputs": [],
   "source": [
    "#button3 = widgets.Button(description=\"Send position\")\n",
    "#output3 = widgets.Output()\n",
    "#button4 = widgets.Button(description=\"Goals status\")\n",
    "#output4 = widgets.Output()"
   ]
  },
  {
   "cell_type": "code",
   "execution_count": 8,
   "id": "f403617c",
   "metadata": {
    "ExecuteTime": {
     "end_time": "2023-06-01T14:46:22.596615Z",
     "start_time": "2023-06-01T14:46:22.592678Z"
    }
   },
   "outputs": [],
   "source": [
    "def on_button_clicked(b):\n",
    "    global px, py\n",
    "    print('pos x: ',px)\n",
    "    print('pos y: ',py)\n",
    "    #np_x_plot = np.array(x_data)\n",
    "    #np_y_plot = np.array(y_data)\n",
    "    #fig = plt.cla()\n",
    "    #ax.set_xlim(( -20, 20))\n",
    "    #ax.set_ylim((-20, 20))\n",
    "    #ax.plot(np_x_plot,np_y_plot)"
   ]
  },
  {
   "cell_type": "code",
   "execution_count": 9,
   "id": "8fadeafd",
   "metadata": {
    "ExecuteTime": {
     "end_time": "2023-06-01T14:46:22.614136Z",
     "start_time": "2023-06-01T14:46:22.602843Z"
    }
   },
   "outputs": [],
   "source": [
    "def cancel_sim(b):\n",
    "    #global client\n",
    "    #client = actionlib.SimpleActionClient('/reaching_goal',assignment_2_2022.msg.PlanningAction)\n",
    "    client.cancel_goal()#send a signal to cancel the action of reaching the new target\n",
    "    print(\"goal cancelled: going back to user select...\")\n",
    "    #user_select() #send the new goal to the client server\n"
   ]
  },
  {
   "cell_type": "code",
   "execution_count": 10,
   "id": "1e6e9521",
   "metadata": {
    "ExecuteTime": {
     "end_time": "2023-06-01T14:46:22.624429Z",
     "start_time": "2023-06-01T14:46:22.620078Z"
    }
   },
   "outputs": [],
   "source": [
    "def status_callback(msg1):\n",
    "    global status\n",
    "    status =0\n",
    "    #global tarjet_reached, tarjet_cancelled\n",
    "    #status=msg1.status\n",
    "    #if status==3:\n",
    "    #    tarjet_reached=tarject_reached+1\n",
    "    #if status==2:\n",
    "    #    tarjet_cancelled=tarjet_cancelled+1\n",
    "    #list1=msg1.status_list\n",
    "    #indices = [1, 4]\n",
    "    #elements = []\n",
    "    #for index in indices:\n",
    "    #    elements.append(list[index])\n",
    "    #print(type(list1))\n",
    "    for item in msg1.status_list:\n",
    "         status=item.status"
   ]
  },
  {
   "cell_type": "code",
   "execution_count": 11,
   "id": "95a8c7a1",
   "metadata": {
    "ExecuteTime": {
     "end_time": "2023-06-01T14:46:22.634556Z",
     "start_time": "2023-06-01T14:46:22.627155Z"
    }
   },
   "outputs": [],
   "source": [
    "def status_button(b):\n",
    "    global tarjet_reached, tarjet_cancelled\n",
    "    if status == 2:\n",
    "        tarjet_cancelled=tarjet_cancelled+1\n",
    "    if status==3:\n",
    "        tarjet_reached=tarject_reached+1    \n",
    "    print('goals reached: ',tarjet_reached)\n",
    "    print('goals cancelled: ',tarjet_cancelled)"
   ]
  },
  {
   "cell_type": "code",
   "execution_count": 12,
   "id": "ba138dfe",
   "metadata": {
    "ExecuteTime": {
     "end_time": "2023-06-01T14:46:22.670087Z",
     "start_time": "2023-06-01T14:46:22.639893Z"
    },
    "scrolled": true
   },
   "outputs": [
    {
     "data": {
      "application/vnd.jupyter.widget-view+json": {
       "model_id": "21fed595649440eeafb7490c5de159ea",
       "version_major": 2,
       "version_minor": 0
      },
      "text/plain": [
       "VBox(children=(HBox(children=(Button(description='Stop', style=ButtonStyle()),)), Output(layout=Layout(border=…"
      ]
     },
     "metadata": {},
     "output_type": "display_data"
    }
   ],
   "source": [
    "#rospy.init_node('odom_visualizer_node')\n",
    "jr.subscribe('/reaching_goal/status', GoalStatusArray, status_callback)"
   ]
  },
  {
   "cell_type": "code",
   "execution_count": 13,
   "id": "dba1a19c",
   "metadata": {
    "ExecuteTime": {
     "end_time": "2023-06-01T14:46:22.696135Z",
     "start_time": "2023-06-01T14:46:22.674429Z"
    },
    "scrolled": false
   },
   "outputs": [],
   "source": [
    "global xpos, ypos\n",
    "x_new = widgets.IntSlider(min=-10,max=10,step=1,description='Set posx:')\n",
    "y_new = widgets.IntSlider(min=-10,max=10,step=1,description='Set posy:')\n",
    "x_pos=x_new.value\n",
    "y_pos=y_new.value"
   ]
  },
  {
   "cell_type": "code",
   "execution_count": 14,
   "id": "5b09de2e",
   "metadata": {
    "ExecuteTime": {
     "end_time": "2023-06-01T14:46:22.704074Z",
     "start_time": "2023-06-01T14:46:22.699447Z"
    }
   },
   "outputs": [],
   "source": [
    "#button1 = widgets.Button(description=\"Set position\")\n",
    "#output1 = widgets.Output()"
   ]
  },
  {
   "cell_type": "code",
   "execution_count": 15,
   "id": "93ba5e1a",
   "metadata": {
    "ExecuteTime": {
     "end_time": "2023-06-01T14:46:22.718099Z",
     "start_time": "2023-06-01T14:46:22.708191Z"
    }
   },
   "outputs": [],
   "source": [
    "def send_position(b):\n",
    "    #global client\n",
    "    global xpos, ypos\n",
    "    print('new position send:',x_new.value,y_new.value)\n",
    "    goal=PoseStamped()\n",
    "    goal.pose.position.x=x_new.value\n",
    "    goal.pose.position.y=y_new.value\n",
    "    goal = assignment_2_2022.msg.PlanningGoal(goal)\n",
    " #send the new goal to the client server\n",
    "    client.send_goal(goal)\n",
    "    "
   ]
  },
  {
   "cell_type": "code",
   "execution_count": 16,
   "id": "d0061ad7",
   "metadata": {
    "ExecuteTime": {
     "end_time": "2023-06-01T14:46:22.731734Z",
     "start_time": "2023-06-01T14:46:22.721413Z"
    }
   },
   "outputs": [],
   "source": [
    "def clbk_laser(msg):\n",
    "    global regions_\n",
    "    regions_ = {\n",
    "        'right':  min(min(msg.ranges[0:143]), 10),\n",
    "        'fright': min(min(msg.ranges[144:287]), 10),\n",
    "        'front':  min(min(msg.ranges[288:431]), 10),\n",
    "        'fleft':  min(min(msg.ranges[432:575]), 10),\n",
    "        'left':   min(min(msg.ranges[576:713]), 10),\n",
    "    }\n",
    "    #print(regions_)"
   ]
  },
  {
   "cell_type": "code",
   "execution_count": 17,
   "id": "94374ced",
   "metadata": {
    "ExecuteTime": {
     "end_time": "2023-06-01T14:46:22.760988Z",
     "start_time": "2023-06-01T14:46:22.734936Z"
    }
   },
   "outputs": [
    {
     "data": {
      "application/vnd.jupyter.widget-view+json": {
       "model_id": "9832fbf5a1e04840b7553820543bf644",
       "version_major": 2,
       "version_minor": 0
      },
      "text/plain": [
       "VBox(children=(HBox(children=(Button(description='Stop', style=ButtonStyle()),)), Output(layout=Layout(border=…"
      ]
     },
     "metadata": {},
     "output_type": "display_data"
    }
   ],
   "source": [
    "jr.subscribe('/scan', LaserScan, clbk_laser)"
   ]
  },
  {
   "cell_type": "code",
   "execution_count": 18,
   "id": "660725b1",
   "metadata": {
    "ExecuteTime": {
     "end_time": "2023-06-01T14:46:22.768683Z",
     "start_time": "2023-06-01T14:46:22.764150Z"
    }
   },
   "outputs": [],
   "source": [
    "def scan_button(b):\n",
    "    global regions_  \n",
    "    print(regions_)  "
   ]
  },
  {
   "cell_type": "markdown",
   "id": "a110445f",
   "metadata": {},
   "source": [
    "# PLOT SCANNER INFORMATION"
   ]
  },
  {
   "cell_type": "code",
   "execution_count": 19,
   "id": "23195935",
   "metadata": {
    "ExecuteTime": {
     "end_time": "2023-06-01T14:46:22.793091Z",
     "start_time": "2023-06-01T14:46:22.771718Z"
    }
   },
   "outputs": [
    {
     "data": {
      "application/vnd.jupyter.widget-view+json": {
       "model_id": "47928a919bd949ec9abd607b5e69bc0d",
       "version_major": 2,
       "version_minor": 0
      },
      "text/plain": [
       "Button(description='Scan info', style=ButtonStyle())"
      ]
     },
     "metadata": {},
     "output_type": "display_data"
    },
    {
     "data": {
      "application/vnd.jupyter.widget-view+json": {
       "model_id": "d927261518f5451b83e6f3cbbb14f5e4",
       "version_major": 2,
       "version_minor": 0
      },
      "text/plain": [
       "Output()"
      ]
     },
     "metadata": {},
     "output_type": "display_data"
    },
    {
     "name": "stdout",
     "output_type": "stream",
     "text": [
      "{'right': 1.0403701066970825, 'fright': 1.2980022430419922, 'front': 3.547492265701294, 'fleft': 4.166445732116699, 'left': 3.3729851245880127}\n",
      "{'right': 6.033015251159668, 'fright': 5.862661838531494, 'front': 1.3358594179153442, 'fleft': 1.1339569091796875, 'left': 1.1552635431289673}\n",
      "{'right': 0.3351890444755554, 'fright': 0.3253661096096039, 'front': 0.49425145983695984, 'fleft': 2.0511326789855957, 'left': 4.639055252075195}\n"
     ]
    }
   ],
   "source": [
    "button5 = widgets.Button(description=\"Scan info\")\n",
    "output5 = widgets.Output()\n",
    "button5.on_click(scan_button)\n",
    "display(button5, output5)"
   ]
  },
  {
   "cell_type": "markdown",
   "id": "0036a207",
   "metadata": {},
   "source": [
    "# USER INTERFACE: SEND NEW GOAL"
   ]
  },
  {
   "cell_type": "code",
   "execution_count": 20,
   "id": "028391de",
   "metadata": {
    "ExecuteTime": {
     "end_time": "2023-06-01T14:46:22.811982Z",
     "start_time": "2023-06-01T14:46:22.796655Z"
    }
   },
   "outputs": [
    {
     "data": {
      "application/vnd.jupyter.widget-view+json": {
       "model_id": "68871b733fef43ea96c34133253d38bb",
       "version_major": 2,
       "version_minor": 0
      },
      "text/plain": [
       "Button(description='send position', style=ButtonStyle())"
      ]
     },
     "metadata": {},
     "output_type": "display_data"
    },
    {
     "data": {
      "application/vnd.jupyter.widget-view+json": {
       "model_id": "5bce80ba65fb462ca33ec093cde1d32f",
       "version_major": 2,
       "version_minor": 0
      },
      "text/plain": [
       "Output()"
      ]
     },
     "metadata": {},
     "output_type": "display_data"
    },
    {
     "name": "stdout",
     "output_type": "stream",
     "text": [
      "new position send: 4 4\n",
      "new position send: -5 -1\n",
      "new position send: 3 5\n"
     ]
    }
   ],
   "source": [
    "button3 = widgets.Button(description=\"send position\")\n",
    "output3 = widgets.Output()\n",
    "button3.on_click(send_position)\n",
    "display(button3, output3)"
   ]
  },
  {
   "cell_type": "code",
   "execution_count": 21,
   "id": "61a26fac",
   "metadata": {
    "ExecuteTime": {
     "end_time": "2023-06-01T14:46:22.818044Z",
     "start_time": "2023-06-01T14:46:22.814321Z"
    }
   },
   "outputs": [],
   "source": [
    "#button4.on_click(status_button)\n",
    "#display(button4,output4)"
   ]
  },
  {
   "cell_type": "markdown",
   "id": "7c8b14e2",
   "metadata": {},
   "source": [
    "# USER INTERFACE: DEFINE NEW GOAL POSITION"
   ]
  },
  {
   "cell_type": "code",
   "execution_count": 22,
   "id": "babfe11e",
   "metadata": {
    "ExecuteTime": {
     "end_time": "2023-06-01T14:46:22.829516Z",
     "start_time": "2023-06-01T14:46:22.822242Z"
    },
    "scrolled": true
   },
   "outputs": [
    {
     "data": {
      "application/vnd.jupyter.widget-view+json": {
       "model_id": "ece228242dc741d6bced1370130323e8",
       "version_major": 2,
       "version_minor": 0
      },
      "text/plain": [
       "IntSlider(value=0, description='Set posx:', max=10, min=-10)"
      ]
     },
     "metadata": {},
     "output_type": "display_data"
    },
    {
     "data": {
      "application/vnd.jupyter.widget-view+json": {
       "model_id": "52f406fa18524de4be5949aee4594711",
       "version_major": 2,
       "version_minor": 0
      },
      "text/plain": [
       "IntSlider(value=0, description='Set posy:', max=10, min=-10)"
      ]
     },
     "metadata": {},
     "output_type": "display_data"
    }
   ],
   "source": [
    "#rospy.init_node('odom_visualizer_node')\n",
    "#jr.subscribe('/odom', Odometry, odom_callback)\n",
    "display(x_new,y_new)"
   ]
  },
  {
   "cell_type": "markdown",
   "id": "c292c818",
   "metadata": {},
   "source": [
    "# USER INTERFACE: DISPLAY CURRENT POSITION"
   ]
  },
  {
   "cell_type": "code",
   "execution_count": 23,
   "id": "30524882",
   "metadata": {
    "ExecuteTime": {
     "end_time": "2023-06-01T14:46:22.854086Z",
     "start_time": "2023-06-01T14:46:22.836880Z"
    },
    "scrolled": true
   },
   "outputs": [
    {
     "data": {
      "application/vnd.jupyter.widget-view+json": {
       "model_id": "e1c6e0d6c192428a980c7388bab20302",
       "version_major": 2,
       "version_minor": 0
      },
      "text/plain": [
       "Button(description='Current position', style=ButtonStyle())"
      ]
     },
     "metadata": {},
     "output_type": "display_data"
    },
    {
     "data": {
      "application/vnd.jupyter.widget-view+json": {
       "model_id": "6033b22aae9942e2ab13393fa876b372",
       "version_major": 2,
       "version_minor": 0
      },
      "text/plain": [
       "Output()"
      ]
     },
     "metadata": {},
     "output_type": "display_data"
    },
    {
     "name": "stdout",
     "output_type": "stream",
     "text": [
      "pos x:  -0.04886164652535771\n",
      "pos y:  1.0013611751727256\n"
     ]
    }
   ],
   "source": [
    "button = widgets.Button(description=\"Current position\")\n",
    "output = widgets.Output()\n",
    "button.on_click(on_button_clicked)\n",
    "display(button, output)"
   ]
  },
  {
   "cell_type": "markdown",
   "id": "fa6d1123",
   "metadata": {},
   "source": [
    "# USER INTERFACE: CANCEL CURRENT GOAL"
   ]
  },
  {
   "cell_type": "code",
   "execution_count": 24,
   "id": "6f2b95e8",
   "metadata": {
    "ExecuteTime": {
     "end_time": "2023-06-01T14:46:22.870143Z",
     "start_time": "2023-06-01T14:46:22.856338Z"
    },
    "scrolled": false
   },
   "outputs": [
    {
     "data": {
      "application/vnd.jupyter.widget-view+json": {
       "model_id": "eb442dd6df4a47279cbbde735fed8b85",
       "version_major": 2,
       "version_minor": 0
      },
      "text/plain": [
       "Button(description='Cancel position', style=ButtonStyle())"
      ]
     },
     "metadata": {},
     "output_type": "display_data"
    },
    {
     "data": {
      "application/vnd.jupyter.widget-view+json": {
       "model_id": "d627566a2fa04d38a9512ebbecab878d",
       "version_major": 2,
       "version_minor": 0
      },
      "text/plain": [
       "Output()"
      ]
     },
     "metadata": {},
     "output_type": "display_data"
    },
    {
     "name": "stdout",
     "output_type": "stream",
     "text": [
      "goal cancelled: going back to user select...\n",
      "goal cancelled: going back to user select...\n"
     ]
    }
   ],
   "source": [
    "button2 = widgets.Button(description=\"Cancel position\")\n",
    "output2 = widgets.Output()\n",
    "button2.on_click(cancel_sim)\n",
    "display(button2, output2)"
   ]
  },
  {
   "cell_type": "markdown",
   "id": "f68b14b3",
   "metadata": {},
   "source": [
    "#  USER INTERFACE: CHECK CURRENT STATUS"
   ]
  },
  {
   "cell_type": "code",
   "execution_count": 25,
   "id": "09891b87",
   "metadata": {
    "ExecuteTime": {
     "end_time": "2023-06-01T14:46:22.897876Z",
     "start_time": "2023-06-01T14:46:22.872808Z"
    }
   },
   "outputs": [
    {
     "data": {
      "application/vnd.jupyter.widget-view+json": {
       "model_id": "bb2913e30da345ccb894e30149d3a4f0",
       "version_major": 2,
       "version_minor": 0
      },
      "text/plain": [
       "Button(description='Check goal Status', style=ButtonStyle())"
      ]
     },
     "metadata": {},
     "output_type": "display_data"
    },
    {
     "data": {
      "application/vnd.jupyter.widget-view+json": {
       "model_id": "73a34956005641e7b2639c8c9de63812",
       "version_major": 2,
       "version_minor": 0
      },
      "text/plain": [
       "Output()"
      ]
     },
     "metadata": {},
     "output_type": "display_data"
    },
    {
     "name": "stdout",
     "output_type": "stream",
     "text": [
      "goals reached:  0\n",
      "goals cancelled:  0\n",
      "goals reached:  0\n",
      "goals cancelled:  0\n",
      "goals reached:  0\n",
      "goals cancelled:  0\n",
      "goals reached:  0\n",
      "goals cancelled:  1\n",
      "goals reached:  0\n",
      "goals cancelled:  2\n"
     ]
    }
   ],
   "source": [
    "button4 = widgets.Button(description=\"Check goal Status\")\n",
    "output4 = widgets.Output()\n",
    "button4.on_click(status_button)\n",
    "display(button4, output4)"
   ]
  },
  {
   "cell_type": "markdown",
   "id": "17160e0f",
   "metadata": {
    "ExecuteTime": {
     "end_time": "2023-06-01T14:20:17.354989Z",
     "start_time": "2023-06-01T14:20:17.354958Z"
    }
   },
   "source": [
    "# MAIN"
   ]
  },
  {
   "cell_type": "code",
   "execution_count": 26,
   "id": "64ec8347",
   "metadata": {
    "ExecuteTime": {
     "end_time": "2023-06-01T14:46:23.085055Z",
     "start_time": "2023-06-01T14:46:22.903607Z"
    }
   },
   "outputs": [],
   "source": [
    "#print(xpos,ypos)\n",
    "rospy.init_node('nodeAclient')  # Initializes a rospy node\n",
    "client = actionlib.SimpleActionClient('/reaching_goal',assignment_2_2022.msg.PlanningAction)\n",
    "#create a client object for an Action client related to the message files Planning.action\n",
    "#user_select()#enter to the main user interface"
   ]
  }
 ],
 "metadata": {
  "kernelspec": {
   "display_name": "Python 3 (ipykernel)",
   "language": "python",
   "name": "python3"
  },
  "language_info": {
   "codemirror_mode": {
    "name": "ipython",
    "version": 3
   },
   "file_extension": ".py",
   "mimetype": "text/x-python",
   "name": "python",
   "nbconvert_exporter": "python",
   "pygments_lexer": "ipython3",
   "version": "3.8.10"
  },
  "toc": {
   "base_numbering": 1,
   "nav_menu": {},
   "number_sections": true,
   "sideBar": true,
   "skip_h1_title": false,
   "title_cell": "Table of Contents",
   "title_sidebar": "Contents",
   "toc_cell": false,
   "toc_position": {
    "height": "calc(100% - 180px)",
    "left": "10px",
    "top": "150px",
    "width": "645px"
   },
   "toc_section_display": true,
   "toc_window_display": true
  },
  "varInspector": {
   "cols": {
    "lenName": 16,
    "lenType": 16,
    "lenVar": 40
   },
   "kernels_config": {
    "python": {
     "delete_cmd_postfix": "",
     "delete_cmd_prefix": "del ",
     "library": "var_list.py",
     "varRefreshCmd": "print(var_dic_list())"
    },
    "r": {
     "delete_cmd_postfix": ") ",
     "delete_cmd_prefix": "rm(",
     "library": "var_list.r",
     "varRefreshCmd": "cat(var_dic_list()) "
    }
   },
   "types_to_exclude": [
    "module",
    "function",
    "builtin_function_or_method",
    "instance",
    "_Feature"
   ],
   "window_display": false
  }
 },
 "nbformat": 4,
 "nbformat_minor": 5
}
